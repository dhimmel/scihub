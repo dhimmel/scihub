{
 "cells": [
  {
   "cell_type": "markdown",
   "metadata": {
    "nbpresent": {
     "id": "2466c03c-2fc2-42b1-8595-8a83653d10c0"
    }
   },
   "source": [
    "# Weekly Google search term interest\n",
    "\n",
    "We used [Google Trends](https://trends.google.com/trends/) to get interest scores for the search terms of `Sci-Hub` and `LibGen`. The values in the dataset measure relative \"Interest over time\", which Google Trends defines as:\n",
    "\n",
    "> Numbers represent search interest relative to the highest point on the chart for the given region and time. A value of 100 is the peak popularity for the term. A value of 50 means that the term is half as popular. Likewise a score of 0 means the term was less than 1% as popular as the peak."
   ]
  },
  {
   "cell_type": "code",
   "execution_count": 1,
   "metadata": {
    "nbpresent": {
     "id": "dfc23fb0-c600-4502-bb83-a30032ebd5a5"
    }
   },
   "outputs": [],
   "source": [
    "# Load magrittr pipe\n",
    "`%>%` = dplyr::`%>%`"
   ]
  },
  {
   "cell_type": "markdown",
   "metadata": {
    "nbpresent": {
     "id": "a84fab14-8354-4dd3-a844-438ba8ba5ac9"
    }
   },
   "source": [
    "## Combine multiple google trends CSV downloads\n",
    "\n",
    "Google trends only provides weekly interest levels for query periods up to 5 years. For longer duration queries, monthly interest values are returned. Therefore to guage all interest, since Sci-Hub's creation in [September 2011](https://engineuring.wordpress.com/2017/07/02/some-facts-on-sci-hub-that-wikipedia-gets-wrong/), multiple queries were performed. Raw interest scores are always scaled to a max value of 100 (within the query timespan). Since not all query timespans include the same max interest score, we rescale the interest values for timespans beyond the first.\n",
    "\n",
    "The links for the queries are:\n",
    "\n",
    "+ https://g.co/trends/hjrLf (2011-06-01 to 2016-06-01)\n",
    "+ https://g.co/trends/CFC9B (2012-12-31 to 2017-12-31)"
   ]
  },
  {
   "cell_type": "code",
   "execution_count": 2,
   "metadata": {
    "nbpresent": {
     "id": "6f9abd93-e913-4232-b4e9-8edab350029e"
    }
   },
   "outputs": [],
   "source": [
    "read_google_trends <- function(path) {\n",
    "  col_types = readr::cols(\n",
    "    Week = readr::col_date(),\n",
    "    `Sci-Hub: (Worldwide)` = readr::col_integer(),\n",
    "    `LibGen: (Worldwide)` = readr::col_integer()\n",
    "  )\n",
    "  df = path %>%\n",
    "    readr::read_csv(skip = 2, col_types = col_types) %>%\n",
    "    dplyr::rename(week = Week, `Sci-Hub` = `Sci-Hub: (Worldwide)`, LibGen = `LibGen: (Worldwide)`)\n",
    "  return(df) \n",
    "}"
   ]
  },
  {
   "cell_type": "code",
   "execution_count": 3,
   "metadata": {},
   "outputs": [
    {
     "name": "stdout",
     "output_type": "stream",
     "text": [
      "Sci-Hub multiplier = 2.150\n",
      "LibGen multiplier = 2.061"
     ]
    }
   ],
   "source": [
    "# Rescale interest scores from noninitial timespans\n",
    "trends_1_df = read_google_trends('google-trends-hjrLf.csv')\n",
    "trends_2_df = read_google_trends('google-trends-CFC9B.csv')\n",
    "common_df = dplyr::inner_join(trends_1_df, trends_2_df, by='week')\n",
    "scihub_multiplier = mean(common_df[['Sci-Hub.x']] / common_df[['Sci-Hub.y']])\n",
    "libgen_multiplier = mean(common_df[['LibGen.x']] / common_df[['LibGen.y']])\n",
    "cat(sprintf('Sci-Hub multiplier = %.3f\\nLibGen multiplier = %.3f', scihub_multiplier, libgen_multiplier))\n",
    "trends_2_df = trends_2_df %>%\n",
    "  dplyr::mutate(`Sci-Hub` = `Sci-Hub` * scihub_multiplier) %>%\n",
    "  dplyr::mutate(LibGen = LibGen * libgen_multiplier)"
   ]
  },
  {
   "cell_type": "code",
   "execution_count": 4,
   "metadata": {},
   "outputs": [
    {
     "data": {
      "text/html": [
       "<table>\n",
       "<thead><tr><th scope=col>week</th><th scope=col>search_term</th><th scope=col>interest</th></tr></thead>\n",
       "<tbody>\n",
       "\t<tr><td>2017-12-24</td><td>LibGen    </td><td>47.40     </td></tr>\n",
       "\t<tr><td>2017-12-24</td><td>Sci-Hub   </td><td>86.01     </td></tr>\n",
       "</tbody>\n",
       "</table>\n"
      ],
      "text/latex": [
       "\\begin{tabular}{r|lll}\n",
       " week & search\\_term & interest\\\\\n",
       "\\hline\n",
       "\t 2017-12-24 & LibGen     & 47.40     \\\\\n",
       "\t 2017-12-24 & Sci-Hub    & 86.01     \\\\\n",
       "\\end{tabular}\n"
      ],
      "text/markdown": [
       "\n",
       "week | search_term | interest | \n",
       "|---|---|\n",
       "| 2017-12-24 | LibGen     | 47.40      | \n",
       "| 2017-12-24 | Sci-Hub    | 86.01      | \n",
       "\n",
       "\n"
      ],
      "text/plain": [
       "  week       search_term interest\n",
       "1 2017-12-24 LibGen      47.40   \n",
       "2 2017-12-24 Sci-Hub     86.01   "
      ]
     },
     "metadata": {},
     "output_type": "display_data"
    }
   ],
   "source": [
    "# Average interest scores from different Google Trend queries\n",
    "combined_df = dplyr::bind_rows(trends_1_df, trends_2_df) %>%\n",
    "  tidyr::gather(`Sci-Hub`:LibGen, key = search_term, value = interest) %>%\n",
    "  dplyr::group_by(week, search_term) %>%\n",
    "  dplyr::summarize(\n",
    "    interest = mean(interest)\n",
    "  ) %>%\n",
    "  dplyr::ungroup() %>%\n",
    "  dplyr::mutate(interest = round(interest, 2))\n",
    "\n",
    "combined_df %>%\n",
    "  readr::write_tsv('google-trends-combined.tsv')\n",
    "\n",
    "combined_df %>% tail(2)"
   ]
  },
  {
   "cell_type": "markdown",
   "metadata": {
    "nbpresent": {
     "id": "dad0f4e9-9ff5-4c56-acd4-63efc0f2d9d3"
    }
   },
   "source": [
    "## Historical events"
   ]
  },
  {
   "cell_type": "code",
   "execution_count": 5,
   "metadata": {
    "nbpresent": {
     "id": "50ac6510-4a77-4fef-a8b2-916a18b40112"
    }
   },
   "outputs": [
    {
     "data": {
      "text/html": [
       "<table>\n",
       "<thead><tr><th scope=col>event</th><th scope=col>start_date</th><th scope=col>end_date</th><th scope=col>fill_color</th></tr></thead>\n",
       "<tbody>\n",
       "\t<tr><td>LibGen scimag backend</td><td>2013-03-20           </td><td>2014-12-31           </td><td>#D9FFDE              </td></tr>\n",
       "\t<tr><td>access logs          </td><td>2015-09-01           </td><td>2015-11-04           </td><td>#D0F3FE              </td></tr>\n",
       "\t<tr><td>access logs          </td><td>2015-11-22           </td><td>2016-02-29           </td><td>#D0F3FE              </td></tr>\n",
       "</tbody>\n",
       "</table>\n"
      ],
      "text/latex": [
       "\\begin{tabular}{r|llll}\n",
       " event & start\\_date & end\\_date & fill\\_color\\\\\n",
       "\\hline\n",
       "\t LibGen scimag backend & 2013-03-20            & 2014-12-31            & \\#D9FFDE            \\\\\n",
       "\t access logs           & 2015-09-01            & 2015-11-04            & \\#D0F3FE            \\\\\n",
       "\t access logs           & 2015-11-22            & 2016-02-29            & \\#D0F3FE            \\\\\n",
       "\\end{tabular}\n"
      ],
      "text/markdown": [
       "\n",
       "event | start_date | end_date | fill_color | \n",
       "|---|---|---|\n",
       "| LibGen scimag backend | 2013-03-20            | 2014-12-31            | #D9FFDE               | \n",
       "| access logs           | 2015-09-01            | 2015-11-04            | #D0F3FE               | \n",
       "| access logs           | 2015-11-22            | 2016-02-29            | #D0F3FE               | \n",
       "\n",
       "\n"
      ],
      "text/plain": [
       "  event                 start_date end_date   fill_color\n",
       "1 LibGen scimag backend 2013-03-20 2014-12-31 #D9FFDE   \n",
       "2 access logs           2015-09-01 2015-11-04 #D0F3FE   \n",
       "3 access logs           2015-11-22 2016-02-29 #D0F3FE   "
      ]
     },
     "metadata": {},
     "output_type": "display_data"
    }
   ],
   "source": [
    "# Periods (timespans)\n",
    "period_df = dplyr::data_frame(\n",
    "  event = c('LibGen scimag backend', 'access logs', 'access logs'),\n",
    "  start_date = as.Date(c('2013-03-20', '2015-09-01', '2015-11-22')),\n",
    "  end_date = as.Date(c('2014-12-31', '2015-11-04', '2016-02-29')),\n",
    "  fill_color = c('#D9FFDE', '#D0F3FE', '#D0F3FE')\n",
    ")\n",
    "period_df"
   ]
  },
  {
   "cell_type": "code",
   "execution_count": 6,
   "metadata": {
    "nbpresent": {
     "id": "fed00056-b748-4a57-a90e-145c1fb02cee"
    }
   },
   "outputs": [
    {
     "data": {
      "text/html": [
       "<table>\n",
       "<thead><tr><th scope=col>event</th><th scope=col>collection_date</th></tr></thead>\n",
       "<tbody>\n",
       "\t<tr><td>Cabanac's LibGen metadata</td><td>2014-01-01               </td></tr>\n",
       "\t<tr><td>Sci-Hub's DOI catalog    </td><td>2017-03-19               </td></tr>\n",
       "</tbody>\n",
       "</table>\n"
      ],
      "text/latex": [
       "\\begin{tabular}{r|ll}\n",
       " event & collection\\_date\\\\\n",
       "\\hline\n",
       "\t Cabanac's LibGen metadata & 2014-01-01               \\\\\n",
       "\t Sci-Hub's DOI catalog     & 2017-03-19               \\\\\n",
       "\\end{tabular}\n"
      ],
      "text/markdown": [
       "\n",
       "event | collection_date | \n",
       "|---|---|\n",
       "| Cabanac's LibGen metadata | 2014-01-01                | \n",
       "| Sci-Hub's DOI catalog     | 2017-03-19                | \n",
       "\n",
       "\n"
      ],
      "text/plain": [
       "  event                     collection_date\n",
       "1 Cabanac's LibGen metadata 2014-01-01     \n",
       "2 Sci-Hub's DOI catalog     2017-03-19     "
      ]
     },
     "metadata": {},
     "output_type": "display_data"
    }
   ],
   "source": [
    "# Date of dataset collections\n",
    "dataset_date_df = dplyr::data_frame(\n",
    "  event = c(\"Cabanac's LibGen metadata\", \"Sci-Hub's DOI catalog\"),\n",
    "  collection_date = as.Date(c('2014-01-01', '2017-03-19'))\n",
    ")\n",
    "dataset_date_df"
   ]
  },
  {
   "cell_type": "markdown",
   "metadata": {
    "nbpresent": {
     "id": "00200068-bac7-4ba9-9ad5-a684323a8781"
    }
   },
   "source": [
    "We used unicode [enclosed alphanumerics](https://en.wikipedia.org/wiki/Enclosed_Alphanumerics) as points: ⒶⒷⒸⒹⒺⒻⒼⒽⒾⒿⓀⓁⓂⓃⓄⓅⓆⓇⓈⓉⓊⓋⓌⓍⓎⓏ"
   ]
  },
  {
   "cell_type": "code",
   "execution_count": 7,
   "metadata": {
    "nbpresent": {
     "id": "94965385-00d6-4b24-af52-44b5354cd2f1"
    }
   },
   "outputs": [
    {
     "data": {
      "text/html": [
       "<table>\n",
       "<thead><tr><th scope=col>event</th><th scope=col>date</th><th scope=col>y</th><th scope=col>symbol</th></tr></thead>\n",
       "<tbody>\n",
       "\t<tr><td>Sci-Hub Founded                </td><td>2011-09-05                     </td><td> 10                            </td><td>Ⓐ                              </td></tr>\n",
       "\t<tr><td>LibGen outage                  </td><td>2015-01-04                     </td><td>110                            </td><td>Ⓑ                              </td></tr>\n",
       "\t<tr><td>Elsevier Files Complaint       </td><td>2015-06-03                     </td><td> 29                            </td><td>Ⓒ                              </td></tr>\n",
       "\t<tr><td>Elsevier Preliminary Injunction</td><td>2015-10-30                     </td><td> 66                            </td><td>Ⓓ                              </td></tr>\n",
       "\t<tr><td>Simon Oxenham Article          </td><td>2016-02-10                     </td><td> 82                            </td><td>Ⓔ                              </td></tr>\n",
       "\t<tr><td>John Bohannon Article          </td><td>2016-04-29                     </td><td>101                            </td><td>Ⓕ                              </td></tr>\n",
       "\t<tr><td>Nature's 10                    </td><td>2016-12-19                     </td><td> 59                            </td><td>Ⓖ                              </td></tr>\n",
       "\t<tr><td>Elsevier Ruling                </td><td>2017-06-21                     </td><td> 54                            </td><td>Ⓗ                              </td></tr>\n",
       "\t<tr><td>ACS Files Suit                 </td><td>2017-06-23                     </td><td> 64                            </td><td>Ⓘ                              </td></tr>\n",
       "\t<tr><td>PeerJ Preprint                 </td><td>2017-07-20                     </td><td> 73                            </td><td>Ⓙ                              </td></tr>\n",
       "\t<tr><td>Russia Service Shutdown        </td><td>2017-09-05                     </td><td> 78                            </td><td>Ⓚ                              </td></tr>\n",
       "\t<tr><td>ACS Ruling                     </td><td>2017-11-03                     </td><td>210                            </td><td>Ⓛ                              </td></tr>\n",
       "</tbody>\n",
       "</table>\n"
      ],
      "text/latex": [
       "\\begin{tabular}{r|llll}\n",
       " event & date & y & symbol\\\\\n",
       "\\hline\n",
       "\t Sci-Hub Founded                 & 2011-09-05                      &  10                             & Ⓐ                              \\\\\n",
       "\t LibGen outage                   & 2015-01-04                      & 110                             & Ⓑ                              \\\\\n",
       "\t Elsevier Files Complaint        & 2015-06-03                      &  29                             & Ⓒ                              \\\\\n",
       "\t Elsevier Preliminary Injunction & 2015-10-30                      &  66                             & Ⓓ                              \\\\\n",
       "\t Simon Oxenham Article           & 2016-02-10                      &  82                             & Ⓔ                              \\\\\n",
       "\t John Bohannon Article           & 2016-04-29                      & 101                             & Ⓕ                              \\\\\n",
       "\t Nature's 10                     & 2016-12-19                      &  59                             & Ⓖ                              \\\\\n",
       "\t Elsevier Ruling                 & 2017-06-21                      &  54                             & Ⓗ                              \\\\\n",
       "\t ACS Files Suit                  & 2017-06-23                      &  64                             & Ⓘ                              \\\\\n",
       "\t PeerJ Preprint                  & 2017-07-20                      &  73                             & Ⓙ                              \\\\\n",
       "\t Russia Service Shutdown         & 2017-09-05                      &  78                             & Ⓚ                              \\\\\n",
       "\t ACS Ruling                      & 2017-11-03                      & 210                             & Ⓛ                              \\\\\n",
       "\\end{tabular}\n"
      ],
      "text/markdown": [
       "\n",
       "event | date | y | symbol | \n",
       "|---|---|---|---|---|---|---|---|---|---|---|---|\n",
       "| Sci-Hub Founded                 | 2011-09-05                      |  10                             | Ⓐ                               | \n",
       "| LibGen outage                   | 2015-01-04                      | 110                             | Ⓑ                               | \n",
       "| Elsevier Files Complaint        | 2015-06-03                      |  29                             | Ⓒ                               | \n",
       "| Elsevier Preliminary Injunction | 2015-10-30                      |  66                             | Ⓓ                               | \n",
       "| Simon Oxenham Article           | 2016-02-10                      |  82                             | Ⓔ                               | \n",
       "| John Bohannon Article           | 2016-04-29                      | 101                             | Ⓕ                               | \n",
       "| Nature's 10                     | 2016-12-19                      |  59                             | Ⓖ                               | \n",
       "| Elsevier Ruling                 | 2017-06-21                      |  54                             | Ⓗ                               | \n",
       "| ACS Files Suit                  | 2017-06-23                      |  64                             | Ⓘ                               | \n",
       "| PeerJ Preprint                  | 2017-07-20                      |  73                             | Ⓙ                               | \n",
       "| Russia Service Shutdown         | 2017-09-05                      |  78                             | Ⓚ                               | \n",
       "| ACS Ruling                      | 2017-11-03                      | 210                             | Ⓛ                               | \n",
       "\n",
       "\n"
      ],
      "text/plain": [
       "   event                           date       y   symbol\n",
       "1  Sci-Hub Founded                 2011-09-05  10 Ⓐ     \n",
       "2  LibGen outage                   2015-01-04 110 Ⓑ     \n",
       "3  Elsevier Files Complaint        2015-06-03  29 Ⓒ     \n",
       "4  Elsevier Preliminary Injunction 2015-10-30  66 Ⓓ     \n",
       "5  Simon Oxenham Article           2016-02-10  82 Ⓔ     \n",
       "6  John Bohannon Article           2016-04-29 101 Ⓕ     \n",
       "7  Nature's 10                     2016-12-19  59 Ⓖ     \n",
       "8  Elsevier Ruling                 2017-06-21  54 Ⓗ     \n",
       "9  ACS Files Suit                  2017-06-23  64 Ⓘ     \n",
       "10 PeerJ Preprint                  2017-07-20  73 Ⓙ     \n",
       "11 Russia Service Shutdown         2017-09-05  78 Ⓚ     \n",
       "12 ACS Ruling                      2017-11-03 210 Ⓛ     "
      ]
     },
     "metadata": {},
     "output_type": "display_data"
    }
   ],
   "source": [
    "# Events to specifically highlight\n",
    "highlight_df = dplyr::data_frame(\n",
    "  event = c('Sci-Hub Founded', 'LibGen outage', 'Elsevier Files Complaint', 'Elsevier Preliminary Injunction', 'Simon Oxenham Article', 'John Bohannon Article', \"Nature's 10\", 'Elsevier Ruling', 'ACS Files Suit', 'PeerJ Preprint', 'Russia Service Shutdown', 'ACS Ruling'),\n",
    "  date = as.Date(c('2011-09-05', '2015-01-04', '2015-06-03', '2015-10-30', '2016-02-10', '2016-04-29', '2016-12-19', '2017-06-21', '2017-06-23', '2017-07-20', '2017-09-05', '2017-11-03')),\n",
    "  y = c(10, 110, 29, 66, 82, 101, 59, 54, 64, 73, 78, 210),\n",
    "  symbol = c('Ⓐ', 'Ⓑ', 'Ⓒ', 'Ⓓ', 'Ⓔ', 'Ⓕ', 'Ⓖ', 'Ⓗ', 'Ⓘ', 'Ⓙ', 'Ⓚ', 'Ⓛ')\n",
    ")\n",
    "highlight_df"
   ]
  },
  {
   "cell_type": "markdown",
   "metadata": {
    "nbpresent": {
     "id": "e6e24dfb-8916-48c6-bc3c-8e160abf8480"
    }
   },
   "source": [
    "## Plot interest over time\n",
    "\n",
    "Use a \"horizontal then vertical\" [stairstep plot](http://ggplot2.tidyverse.org/reference/geom_path.html), since dates report interest starting on that date for the next 7 days. For example, 2017-05-07 indicates interest from 2017-05-07 through 2017-05-13."
   ]
  },
  {
   "cell_type": "code",
   "execution_count": 8,
   "metadata": {},
   "outputs": [
    {
     "data": {
      "text/html": [
       "215.01"
      ],
      "text/latex": [
       "215.01"
      ],
      "text/markdown": [
       "215.01"
      ],
      "text/plain": [
       "[1] 215.01"
      ]
     },
     "metadata": {},
     "output_type": "display_data"
    }
   ],
   "source": [
    "max_interest = max(combined_df$interest)\n",
    "max_interest"
   ]
  },
  {
   "cell_type": "code",
   "execution_count": 9,
   "metadata": {
    "nbpresent": {
     "id": "ec0f1b39-ded3-49c6-b8fe-f22234569141"
    }
   },
   "outputs": [
    {
     "data": {},
     "metadata": {},
     "output_type": "display_data"
    },
    {
     "data": {
      "image/png": "[encoded data removed]",
      "text/plain": [
       "plot without title"
      ]
     },
     "metadata": {},
     "output_type": "display_data"
    }
   ],
   "source": [
    "# Set figure dimensions\n",
    "width = 6.5\n",
    "height = 3\n",
    "options(repr.plot.width=width, repr.plot.height=height)\n",
    "\n",
    "gg = combined_df %>%\n",
    "  dplyr::filter(week >= '2011-09-04') %>%\n",
    "  ggplot2::ggplot(ggplot2::aes(x = week, y = interest, color = search_term)) +\n",
    "  ggplot2::geom_rect(mapping = ggplot2::aes(xmin=start_date, xmax=end_date, fill=fill_color),\n",
    "    inherit.aes = FALSE, data=period_df, ymin=-Inf, ymax=Inf, alpha=0.5) +\n",
    "  ggplot2::geom_vline(mapping = ggplot2::aes(xintercept = as.numeric(collection_date)),\n",
    "    data = dataset_date_df, linetype = 'dotted', color = '#f441df', size=0.55) + \n",
    "  ggplot2::geom_text(mapping = ggplot2::aes(x = collection_date, y = max_interest * 0.6, label = event),\n",
    "    data = dataset_date_df, color = '#f88deb', size=2.9, angle=90, vjust=-0.5) + \n",
    "  ggplot2::geom_step(direction = 'hv', size = 1.3) +\n",
    "  ggplot2::geom_text(mapping = ggplot2::aes(x = date, y = y, label = symbol),\n",
    "    data = highlight_df, inherit.aes = FALSE, fontface = 'bold') +\n",
    "  ggplot2::annotate(geom='text', x=as.Date('2014-02-08'), y=max_interest - 2,\n",
    "    label='LibGen scimag backend', color='#97b29b', vjust='inward', size=3) +\n",
    "  ggplot2::annotate(geom='text', x=as.Date('2015-11-30'), y=max_interest - 2,\n",
    "    label='access logs', color='#91aab1', vjust='inward', size=3) +\n",
    "  ggplot2::expand_limits(y = 107) +\n",
    "  ggplot2::scale_x_date(name=NULL, date_breaks = '1 year', date_labels = '%Y', date_minor_breaks= '1 month', expand = c(0.015, 0)) +\n",
    "  ggplot2::scale_y_continuous(name='Google Search Interest', labels = NULL, expand = c(0.01, 0), breaks = NULL) +\n",
    "  ggplot2::scale_color_manual(name = NULL,\n",
    "    values = c(LibGen = '#BBBBBB', `Sci-Hub` = '#B23030')) +\n",
    "  ggplot2::scale_fill_identity() +\n",
    "  ggplot2::theme_bw() +\n",
    "  ggplot2::theme(\n",
    "    legend.position = c(0.03, 0.98), \n",
    "    legend.justification = c(0, 1), \n",
    "    legend.key = ggplot2::element_rect(colour = NA, fill = NA),\n",
    "    legend.background = ggplot2::element_rect(colour = NA, fill = NA),\n",
    "    panel.grid.major.x = ggplot2::element_line(color = 'gray80'),\n",
    "    plot.background = ggplot2::element_blank()\n",
    "  )\n",
    "\n",
    "ggplot2::ggsave('google-trends.svg', gg, width = width, height = height, bg='transparent')\n",
    "ggplot2::ggsave('google-trends.png', gg, width = width, height = height, dpi=300, bg='transparent')\n",
    "\n",
    "gg"
   ]
  },
  {
   "cell_type": "code",
   "execution_count": 10,
   "metadata": {
    "nbpresent": {
     "id": "6eb8abe8-2339-491f-a585-1b1120c6521a"
    }
   },
   "outputs": [],
   "source": [
    "# Fix SVG renderring issue where encircled letters appear squished\n",
    "# Workaround for https://github.com/greenelab/scihub/issues/30\n",
    "svg_lines = readLines('google-trends.svg')\n",
    "svg_lines = gsub(pattern = 'spacingAndGlyphs', replace = 'spacing', x = svg_lines)\n",
    "writeLines(svg_lines, 'google-trends.svg')"
   ]
  }
 ],
 "metadata": {
  "anaconda-cloud": {},
  "kernelspec": {
   "display_name": "R [conda env:scihub]",
   "language": "R",
   "name": "conda-env-scihub-r"
  },
  "language_info": {
   "codemirror_mode": "r",
   "file_extension": ".r",
   "mimetype": "text/x-r-source",
   "name": "R",
   "pygments_lexer": "r",
   "version": "3.3.2"
  }
 },
 "nbformat": 4,
 "nbformat_minor": 2
}
