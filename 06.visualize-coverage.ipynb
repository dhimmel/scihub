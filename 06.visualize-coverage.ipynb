{
 "cells": [
  {
   "cell_type": "markdown",
   "metadata": {},
   "source": [
    "# Compute and visualize Sci-Hub coverage by category"
   ]
  },
  {
   "cell_type": "code",
   "execution_count": 1,
   "metadata": {
    "collapsed": true
   },
   "outputs": [],
   "source": [
    "# Load magrittr pipe\n",
    "`%>%` = dplyr::`%>%`"
   ]
  },
  {
   "cell_type": "markdown",
   "metadata": {},
   "source": [
    "## Read Sci-Hub coverage data"
   ]
  },
  {
   "cell_type": "code",
   "execution_count": 2,
   "metadata": {},
   "outputs": [
    {
     "data": {
      "text/html": [
       "<table>\n",
       "<thead><tr><th scope=col>scopus_id</th><th scope=col>title_name</th><th scope=col>active</th><th scope=col>open_access</th><th scope=col>scihub</th><th scope=col>crossref</th><th scope=col>coverage</th></tr></thead>\n",
       "<tbody>\n",
       "\t<tr><td>12001                                            </td><td>Journal of the Experimental Analysis of Behavior </td><td>1                                                </td><td>0                                                </td><td>2562                                             </td><td>4400                                             </td><td>0.58227                                          </td></tr>\n",
       "\t<tr><td>12002                                            </td><td>Journal of the History of the Behavioral Sciences</td><td>1                                                </td><td>0                                                </td><td>4277                                             </td><td>4623                                             </td><td>0.92516                                          </td></tr>\n",
       "</tbody>\n",
       "</table>\n"
      ],
      "text/latex": [
       "\\begin{tabular}{r|lllllll}\n",
       " scopus\\_id & title\\_name & active & open\\_access & scihub & crossref & coverage\\\\\n",
       "\\hline\n",
       "\t 12001                                             & Journal of the Experimental Analysis of Behavior  & 1                                                 & 0                                                 & 2562                                              & 4400                                              & 0.58227                                          \\\\\n",
       "\t 12002                                             & Journal of the History of the Behavioral Sciences & 1                                                 & 0                                                 & 4277                                              & 4623                                              & 0.92516                                          \\\\\n",
       "\\end{tabular}\n"
      ],
      "text/markdown": [
       "\n",
       "scopus_id | title_name | active | open_access | scihub | crossref | coverage | \n",
       "|---|---|\n",
       "| 12001                                             | Journal of the Experimental Analysis of Behavior  | 1                                                 | 0                                                 | 2562                                              | 4400                                              | 0.58227                                           | \n",
       "| 12002                                             | Journal of the History of the Behavioral Sciences | 1                                                 | 0                                                 | 4277                                              | 4623                                              | 0.92516                                           | \n",
       "\n",
       "\n"
      ],
      "text/plain": [
       "  scopus_id title_name                                        active\n",
       "1 12001     Journal of the Experimental Analysis of Behavior  1     \n",
       "2 12002     Journal of the History of the Behavioral Sciences 1     \n",
       "  open_access scihub crossref coverage\n",
       "1 0           2562   4400     0.58227 \n",
       "2 0           4277   4623     0.92516 "
      ]
     },
     "metadata": {},
     "output_type": "display_data"
    }
   ],
   "source": [
    "scopus_col_types = list(\n",
    "  scopus_id = readr::col_character()  # R fails with big integers like 2200147401\n",
    ")\n",
    "journal_df = file.path('data', 'journal-coverage.tsv') %>%\n",
    "  readr::read_tsv(col_types = scopus_col_types)\n",
    "\n",
    "head(journal_df, 2)"
   ]
  },
  {
   "cell_type": "markdown",
   "metadata": {},
   "source": [
    "## Sci-Hub journal coverage stats"
   ]
  },
  {
   "cell_type": "code",
   "execution_count": 3,
   "metadata": {},
   "outputs": [
    {
     "data": {
      "text/html": [
       "23037"
      ],
      "text/latex": [
       "23037"
      ],
      "text/markdown": [
       "23037"
      ],
      "text/plain": [
       "[1] 23037"
      ]
     },
     "metadata": {},
     "output_type": "display_data"
    }
   ],
   "source": [
    "# Number of journals\n",
    "nrow(journal_df)"
   ]
  },
  {
   "cell_type": "code",
   "execution_count": 4,
   "metadata": {},
   "outputs": [
    {
     "data": {
      "text/html": [
       "57388930"
      ],
      "text/latex": [
       "57388930"
      ],
      "text/markdown": [
       "57388930"
      ],
      "text/plain": [
       "[1] 57388930"
      ]
     },
     "metadata": {},
     "output_type": "display_data"
    }
   ],
   "source": [
    "# Total number of articles mapped to a journal\n",
    "sum(journal_df$crossref)"
   ]
  },
  {
   "cell_type": "code",
   "execution_count": 5,
   "metadata": {},
   "outputs": [
    {
     "data": {
      "text/html": [
       "'83.3%'"
      ],
      "text/latex": [
       "'83.3\\%'"
      ],
      "text/markdown": [
       "'83.3%'"
      ],
      "text/plain": [
       "[1] \"83.3%\""
      ]
     },
     "metadata": {},
     "output_type": "display_data"
    }
   ],
   "source": [
    "# Coverage across all journal-mapping articles\n",
    "pct = sum(journal_df$scihub) / sum(journal_df$crossref)\n",
    "scales::percent(pct)"
   ]
  },
  {
   "cell_type": "code",
   "execution_count": 6,
   "metadata": {},
   "outputs": [
    {
     "data": {
      "text/html": [
       "<table>\n",
       "<thead><tr><th scope=col>scopus_id</th><th scope=col>title_name</th><th scope=col>active</th><th scope=col>open_access</th><th scope=col>scihub</th><th scope=col>crossref</th><th scope=col>coverage</th></tr></thead>\n",
       "<tbody>\n",
       "\t<tr><td>18607                           </td><td>Primary Care Respiratory Journal</td><td>0                               </td><td>1                               </td><td>469                             </td><td>1259                            </td><td>0.37252                         </td></tr>\n",
       "\t<tr><td>18889                           </td><td>Indian Journal of Human Genetics</td><td>0                               </td><td>1                               </td><td>347                             </td><td> 475                            </td><td>0.73053                         </td></tr>\n",
       "</tbody>\n",
       "</table>\n"
      ],
      "text/latex": [
       "\\begin{tabular}{r|lllllll}\n",
       " scopus\\_id & title\\_name & active & open\\_access & scihub & crossref & coverage\\\\\n",
       "\\hline\n",
       "\t 18607                            & Primary Care Respiratory Journal & 0                                & 1                                & 469                              & 1259                             & 0.37252                         \\\\\n",
       "\t 18889                            & Indian Journal of Human Genetics & 0                                & 1                                & 347                              &  475                             & 0.73053                         \\\\\n",
       "\\end{tabular}\n"
      ],
      "text/markdown": [
       "\n",
       "scopus_id | title_name | active | open_access | scihub | crossref | coverage | \n",
       "|---|---|\n",
       "| 18607                            | Primary Care Respiratory Journal | 0                                | 1                                | 469                              | 1259                             | 0.37252                          | \n",
       "| 18889                            | Indian Journal of Human Genetics | 0                                | 1                                | 347                              |  475                             | 0.73053                          | \n",
       "\n",
       "\n"
      ],
      "text/plain": [
       "  scopus_id title_name                       active open_access scihub crossref\n",
       "1 18607     Primary Care Respiratory Journal 0      1           469    1259    \n",
       "2 18889     Indian Journal of Human Genetics 0      1           347     475    \n",
       "  coverage\n",
       "1 0.37252 \n",
       "2 0.73053 "
      ]
     },
     "metadata": {},
     "output_type": "display_data"
    }
   ],
   "source": [
    "journal_df %>%\n",
    "  dplyr::filter(active == 0) %>%\n",
    "  dplyr::filter(open_access == 1) %>%\n",
    "  head(2)"
   ]
  },
  {
   "cell_type": "code",
   "execution_count": 7,
   "metadata": {},
   "outputs": [
    {
     "data": {
      "text/html": [
       "<table>\n",
       "<thead><tr><th scope=col>active</th><th scope=col>n_journals</th></tr></thead>\n",
       "<tbody>\n",
       "\t<tr><td>0    </td><td> 4598</td></tr>\n",
       "\t<tr><td>1    </td><td>18439</td></tr>\n",
       "</tbody>\n",
       "</table>\n"
      ],
      "text/latex": [
       "\\begin{tabular}{r|ll}\n",
       " active & n\\_journals\\\\\n",
       "\\hline\n",
       "\t 0     &  4598\\\\\n",
       "\t 1     & 18439\\\\\n",
       "\\end{tabular}\n"
      ],
      "text/markdown": [
       "\n",
       "active | n_journals | \n",
       "|---|---|\n",
       "| 0     |  4598 | \n",
       "| 1     | 18439 | \n",
       "\n",
       "\n"
      ],
      "text/plain": [
       "  active n_journals\n",
       "1 0       4598     \n",
       "2 1      18439     "
      ]
     },
     "metadata": {},
     "output_type": "display_data"
    },
    {
     "data": {
      "text/html": [
       "<table>\n",
       "<thead><tr><th scope=col>open_access</th><th scope=col>n_journals</th></tr></thead>\n",
       "<tbody>\n",
       "\t<tr><td>0    </td><td>20104</td></tr>\n",
       "\t<tr><td>1    </td><td> 2933</td></tr>\n",
       "</tbody>\n",
       "</table>\n"
      ],
      "text/latex": [
       "\\begin{tabular}{r|ll}\n",
       " open\\_access & n\\_journals\\\\\n",
       "\\hline\n",
       "\t 0     & 20104\\\\\n",
       "\t 1     &  2933\\\\\n",
       "\\end{tabular}\n"
      ],
      "text/markdown": [
       "\n",
       "open_access | n_journals | \n",
       "|---|---|\n",
       "| 0     | 20104 | \n",
       "| 1     |  2933 | \n",
       "\n",
       "\n"
      ],
      "text/plain": [
       "  open_access n_journals\n",
       "1 0           20104     \n",
       "2 1            2933     "
      ]
     },
     "metadata": {},
     "output_type": "display_data"
    },
    {
     "data": {
      "text/html": [
       "<table>\n",
       "<thead><tr><th scope=col>active</th><th scope=col>open_access</th><th scope=col>n_journals</th></tr></thead>\n",
       "<tbody>\n",
       "\t<tr><td>0    </td><td>0    </td><td> 4528</td></tr>\n",
       "\t<tr><td>0    </td><td>1    </td><td>   70</td></tr>\n",
       "\t<tr><td>1    </td><td>0    </td><td>15576</td></tr>\n",
       "\t<tr><td>1    </td><td>1    </td><td> 2863</td></tr>\n",
       "</tbody>\n",
       "</table>\n"
      ],
      "text/latex": [
       "\\begin{tabular}{r|lll}\n",
       " active & open\\_access & n\\_journals\\\\\n",
       "\\hline\n",
       "\t 0     & 0     &  4528\\\\\n",
       "\t 0     & 1     &    70\\\\\n",
       "\t 1     & 0     & 15576\\\\\n",
       "\t 1     & 1     &  2863\\\\\n",
       "\\end{tabular}\n"
      ],
      "text/markdown": [
       "\n",
       "active | open_access | n_journals | \n",
       "|---|---|---|---|\n",
       "| 0     | 0     |  4528 | \n",
       "| 0     | 1     |    70 | \n",
       "| 1     | 0     | 15576 | \n",
       "| 1     | 1     |  2863 | \n",
       "\n",
       "\n"
      ],
      "text/plain": [
       "  active open_access n_journals\n",
       "1 0      0            4528     \n",
       "2 0      1              70     \n",
       "3 1      0           15576     \n",
       "4 1      1            2863     "
      ]
     },
     "metadata": {},
     "output_type": "display_data"
    }
   ],
   "source": [
    "# Active and OA status counts\n",
    "journal_df %>%\n",
    "  dplyr::group_by(active) %>%\n",
    "  dplyr::summarize(n_journals = n())\n",
    "\n",
    "journal_df %>%\n",
    "  dplyr::group_by(open_access) %>%\n",
    "  dplyr::summarize(n_journals = n())\n",
    "\n",
    "journal_df %>%\n",
    "  dplyr::group_by(active, open_access) %>%\n",
    "  dplyr::summarize(n_journals = n())"
   ]
  },
  {
   "cell_type": "code",
   "execution_count": 8,
   "metadata": {},
   "outputs": [
    {
     "data": {
      "text/html": [
       "2574"
      ],
      "text/latex": [
       "2574"
      ],
      "text/markdown": [
       "2574"
      ],
      "text/plain": [
       "[1] 2574"
      ]
     },
     "metadata": {},
     "output_type": "display_data"
    },
    {
     "data": {
      "text/html": [
       "<table>\n",
       "<thead><tr><th scope=col>active</th><th scope=col>n_journals</th></tr></thead>\n",
       "<tbody>\n",
       "\t<tr><td>0   </td><td> 572</td></tr>\n",
       "\t<tr><td>1   </td><td>2002</td></tr>\n",
       "</tbody>\n",
       "</table>\n"
      ],
      "text/latex": [
       "\\begin{tabular}{r|ll}\n",
       " active & n\\_journals\\\\\n",
       "\\hline\n",
       "\t 0    &  572\\\\\n",
       "\t 1    & 2002\\\\\n",
       "\\end{tabular}\n"
      ],
      "text/markdown": [
       "\n",
       "active | n_journals | \n",
       "|---|---|\n",
       "| 0    |  572 | \n",
       "| 1    | 2002 | \n",
       "\n",
       "\n"
      ],
      "text/plain": [
       "  active n_journals\n",
       "1 0       572      \n",
       "2 1      2002      "
      ]
     },
     "metadata": {},
     "output_type": "display_data"
    },
    {
     "data": {
      "text/html": [
       "<table>\n",
       "<thead><tr><th scope=col>open_access</th><th scope=col>n_journals</th></tr></thead>\n",
       "<tbody>\n",
       "\t<tr><td>0   </td><td>1857</td></tr>\n",
       "\t<tr><td>1   </td><td> 717</td></tr>\n",
       "</tbody>\n",
       "</table>\n"
      ],
      "text/latex": [
       "\\begin{tabular}{r|ll}\n",
       " open\\_access & n\\_journals\\\\\n",
       "\\hline\n",
       "\t 0    & 1857\\\\\n",
       "\t 1    &  717\\\\\n",
       "\\end{tabular}\n"
      ],
      "text/markdown": [
       "\n",
       "open_access | n_journals | \n",
       "|---|---|\n",
       "| 0    | 1857 | \n",
       "| 1    |  717 | \n",
       "\n",
       "\n"
      ],
      "text/plain": [
       "  open_access n_journals\n",
       "1 0           1857      \n",
       "2 1            717      "
      ]
     },
     "metadata": {},
     "output_type": "display_data"
    }
   ],
   "source": [
    "# Zero-coverage journals\n",
    "\n",
    "zero_df = journal_df %>%\n",
    "  dplyr::filter(scihub == 0)\n",
    "\n",
    "nrow(zero_df)\n",
    "\n",
    "zero_df %>%\n",
    "  dplyr::group_by(active) %>%\n",
    "  dplyr::summarize(n_journals = n())\n",
    "\n",
    "zero_df %>%\n",
    "  dplyr::group_by(open_access) %>%\n",
    "  dplyr::summarize(n_journals = n())"
   ]
  },
  {
   "cell_type": "code",
   "execution_count": 9,
   "metadata": {},
   "outputs": [
    {
     "data": {
      "text/html": [
       "2095"
      ],
      "text/latex": [
       "2095"
      ],
      "text/markdown": [
       "2095"
      ],
      "text/plain": [
       "[1] 2095"
      ]
     },
     "metadata": {},
     "output_type": "display_data"
    },
    {
     "data": {
      "text/html": [
       "<table>\n",
       "<thead><tr><th scope=col>active</th><th scope=col>n_journals</th></tr></thead>\n",
       "<tbody>\n",
       "\t<tr><td>0   </td><td>1709</td></tr>\n",
       "\t<tr><td>1   </td><td> 386</td></tr>\n",
       "</tbody>\n",
       "</table>\n"
      ],
      "text/latex": [
       "\\begin{tabular}{r|ll}\n",
       " active & n\\_journals\\\\\n",
       "\\hline\n",
       "\t 0    & 1709\\\\\n",
       "\t 1    &  386\\\\\n",
       "\\end{tabular}\n"
      ],
      "text/markdown": [
       "\n",
       "active | n_journals | \n",
       "|---|---|\n",
       "| 0    | 1709 | \n",
       "| 1    |  386 | \n",
       "\n",
       "\n"
      ],
      "text/plain": [
       "  active n_journals\n",
       "1 0      1709      \n",
       "2 1       386      "
      ]
     },
     "metadata": {},
     "output_type": "display_data"
    },
    {
     "data": {
      "text/html": [
       "<table>\n",
       "<thead><tr><th scope=col>open_access</th><th scope=col>n_journals</th></tr></thead>\n",
       "<tbody>\n",
       "\t<tr><td>0   </td><td>2054</td></tr>\n",
       "\t<tr><td>1   </td><td>  41</td></tr>\n",
       "</tbody>\n",
       "</table>\n"
      ],
      "text/latex": [
       "\\begin{tabular}{r|ll}\n",
       " open\\_access & n\\_journals\\\\\n",
       "\\hline\n",
       "\t 0    & 2054\\\\\n",
       "\t 1    &   41\\\\\n",
       "\\end{tabular}\n"
      ],
      "text/markdown": [
       "\n",
       "open_access | n_journals | \n",
       "|---|---|\n",
       "| 0    | 2054 | \n",
       "| 1    |   41 | \n",
       "\n",
       "\n"
      ],
      "text/plain": [
       "  open_access n_journals\n",
       "1 0           2054      \n",
       "2 1             41      "
      ]
     },
     "metadata": {},
     "output_type": "display_data"
    }
   ],
   "source": [
    "# Perfect-coverage journals\n",
    "\n",
    "complete_df = journal_df %>%\n",
    "  dplyr::filter(scihub == crossref)\n",
    "\n",
    "nrow(complete_df)\n",
    "\n",
    "complete_df %>%\n",
    "  dplyr::group_by(active) %>%\n",
    "  dplyr::summarize(n_journals = n())\n",
    "\n",
    "complete_df %>%\n",
    "  dplyr::group_by(open_access) %>%\n",
    "  dplyr::summarize(n_journals = n())"
   ]
  },
  {
   "cell_type": "markdown",
   "metadata": {},
   "source": [
    "## Read external Scopus data"
   ]
  },
  {
   "cell_type": "code",
   "execution_count": 10,
   "metadata": {},
   "outputs": [
    {
     "data": {
      "text/html": [
       "<dl>\n",
       "\t<dt>$crossref_url</dt>\n",
       "\t\t<dd>'https://github.com/greenelab/crossref/raw/768a49ba1d8ba1971f00471950514716a9f699c8/'</dd>\n",
       "\t<dt>$scopus_url</dt>\n",
       "\t\t<dd>'https://github.com/dhimmel/scopus/raw/50171219c2b2261bd2529f8ca354e4ba25725626/'</dd>\n",
       "\t<dt>$opencitations_url</dt>\n",
       "\t\t<dd>'https://github.com/greenelab/opencitations/raw/b69e814318dfd58e5f711f5373d4ff8683ac0ba2/'</dd>\n",
       "</dl>\n"
      ],
      "text/latex": [
       "\\begin{description}\n",
       "\\item[\\$crossref\\_url] 'https://github.com/greenelab/crossref/raw/768a49ba1d8ba1971f00471950514716a9f699c8/'\n",
       "\\item[\\$scopus\\_url] 'https://github.com/dhimmel/scopus/raw/50171219c2b2261bd2529f8ca354e4ba25725626/'\n",
       "\\item[\\$opencitations\\_url] 'https://github.com/greenelab/opencitations/raw/b69e814318dfd58e5f711f5373d4ff8683ac0ba2/'\n",
       "\\end{description}\n"
      ],
      "text/markdown": [
       "$crossref_url\n",
       ":   'https://github.com/greenelab/crossref/raw/768a49ba1d8ba1971f00471950514716a9f699c8/'\n",
       "$scopus_url\n",
       ":   'https://github.com/dhimmel/scopus/raw/50171219c2b2261bd2529f8ca354e4ba25725626/'\n",
       "$opencitations_url\n",
       ":   'https://github.com/greenelab/opencitations/raw/b69e814318dfd58e5f711f5373d4ff8683ac0ba2/'\n",
       "\n",
       "\n"
      ],
      "text/plain": [
       "$crossref_url\n",
       "[1] \"https://github.com/greenelab/crossref/raw/768a49ba1d8ba1971f00471950514716a9f699c8/\"\n",
       "\n",
       "$scopus_url\n",
       "[1] \"https://github.com/dhimmel/scopus/raw/50171219c2b2261bd2529f8ca354e4ba25725626/\"\n",
       "\n",
       "$opencitations_url\n",
       "[1] \"https://github.com/greenelab/opencitations/raw/b69e814318dfd58e5f711f5373d4ff8683ac0ba2/\"\n"
      ]
     },
     "metadata": {},
     "output_type": "display_data"
    }
   ],
   "source": [
    "config = '00.configuration.json' %>% jsonlite::read_json()\n",
    "config"
   ]
  },
  {
   "cell_type": "code",
   "execution_count": 11,
   "metadata": {},
   "outputs": [
    {
     "data": {
      "text/html": [
       "<table>\n",
       "<thead><tr><th scope=col>scopus_id</th><th scope=col>asjc_code</th><th scope=col>asjc_description</th></tr></thead>\n",
       "<tbody>\n",
       "\t<tr><td>12000           </td><td>1700            </td><td>Computer Science</td></tr>\n",
       "\t<tr><td>12000           </td><td>3300            </td><td>Social Sciences </td></tr>\n",
       "</tbody>\n",
       "</table>\n"
      ],
      "text/latex": [
       "\\begin{tabular}{r|lll}\n",
       " scopus\\_id & asjc\\_code & asjc\\_description\\\\\n",
       "\\hline\n",
       "\t 12000            & 1700             & Computer Science\\\\\n",
       "\t 12000            & 3300             & Social Sciences \\\\\n",
       "\\end{tabular}\n"
      ],
      "text/markdown": [
       "\n",
       "scopus_id | asjc_code | asjc_description | \n",
       "|---|---|\n",
       "| 12000            | 1700             | Computer Science | \n",
       "| 12000            | 3300             | Social Sciences  | \n",
       "\n",
       "\n"
      ],
      "text/plain": [
       "  scopus_id asjc_code asjc_description\n",
       "1 12000     1700      Computer Science\n",
       "2 12000     3300      Social Sciences "
      ]
     },
     "metadata": {},
     "output_type": "display_data"
    }
   ],
   "source": [
    "# Read scopus subject areas\n",
    "subject_df = paste0(config$scopus_url, 'data/subject-areas.tsv') %>%\n",
    "  readr::read_tsv(col_types = scopus_col_types)\n",
    "head(subject_df, 2)"
   ]
  },
  {
   "cell_type": "code",
   "execution_count": 12,
   "metadata": {
    "scrolled": true
   },
   "outputs": [
    {
     "data": {
      "text/html": [
       "<table>\n",
       "<thead><tr><th scope=col>scopus_id</th><th scope=col>top_level_subject</th></tr></thead>\n",
       "<tbody>\n",
       "\t<tr><td>12000            </td><td>Physical Sciences</td></tr>\n",
       "\t<tr><td>12000            </td><td>Social Sciences  </td></tr>\n",
       "</tbody>\n",
       "</table>\n"
      ],
      "text/latex": [
       "\\begin{tabular}{r|ll}\n",
       " scopus\\_id & top\\_level\\_subject\\\\\n",
       "\\hline\n",
       "\t 12000             & Physical Sciences\\\\\n",
       "\t 12000             & Social Sciences  \\\\\n",
       "\\end{tabular}\n"
      ],
      "text/markdown": [
       "\n",
       "scopus_id | top_level_subject | \n",
       "|---|---|\n",
       "| 12000             | Physical Sciences | \n",
       "| 12000             | Social Sciences   | \n",
       "\n",
       "\n"
      ],
      "text/plain": [
       "  scopus_id top_level_subject\n",
       "1 12000     Physical Sciences\n",
       "2 12000     Social Sciences  "
      ]
     },
     "metadata": {},
     "output_type": "display_data"
    }
   ],
   "source": [
    "# Read scopus top-level subjects\n",
    "top_df = paste0(config$scopus_url, 'data/title-top-levels.tsv') %>%\n",
    "  readr::read_tsv(col_types = scopus_col_types)\n",
    "head(top_df, 2)"
   ]
  },
  {
   "cell_type": "code",
   "execution_count": 13,
   "metadata": {},
   "outputs": [
    {
     "data": {
      "text/html": [
       "<table>\n",
       "<thead><tr><th scope=col>scopus_id</th><th scope=col>active</th><th scope=col>open_access</th><th scope=col>main_publisher</th><th scope=col>source_type</th><th scope=col>publisher_country</th></tr></thead>\n",
       "<tbody>\n",
       "\t<tr><td>12000                    </td><td>0                        </td><td>0                        </td><td>Columbus State University</td><td>Journal                  </td><td>United States            </td></tr>\n",
       "\t<tr><td>12001                    </td><td>1                        </td><td>0                        </td><td>Wiley-Blackwell          </td><td>Journal                  </td><td>United States            </td></tr>\n",
       "</tbody>\n",
       "</table>\n"
      ],
      "text/latex": [
       "\\begin{tabular}{r|llllll}\n",
       " scopus\\_id & active & open\\_access & main\\_publisher & source\\_type & publisher\\_country\\\\\n",
       "\\hline\n",
       "\t 12000                     & 0                         & 0                         & Columbus State University & Journal                   & United States            \\\\\n",
       "\t 12001                     & 1                         & 0                         & Wiley-Blackwell           & Journal                   & United States            \\\\\n",
       "\\end{tabular}\n"
      ],
      "text/markdown": [
       "\n",
       "scopus_id | active | open_access | main_publisher | source_type | publisher_country | \n",
       "|---|---|\n",
       "| 12000                     | 0                         | 0                         | Columbus State University | Journal                   | United States             | \n",
       "| 12001                     | 1                         | 0                         | Wiley-Blackwell           | Journal                   | United States             | \n",
       "\n",
       "\n"
      ],
      "text/plain": [
       "  scopus_id active open_access main_publisher            source_type\n",
       "1 12000     0      0           Columbus State University Journal    \n",
       "2 12001     1      0           Wiley-Blackwell           Journal    \n",
       "  publisher_country\n",
       "1 United States    \n",
       "2 United States    "
      ]
     },
     "metadata": {},
     "output_type": "display_data"
    }
   ],
   "source": [
    "# Read scopus title attibutes\n",
    "attribute_df = paste0(config$scopus_url, 'data/title-attributes.tsv') %>%\n",
    "  readr::read_tsv(col_types = scopus_col_types)\n",
    "head(attribute_df, 2)"
   ]
  },
  {
   "cell_type": "markdown",
   "metadata": {},
   "source": [
    "## Compute coverage by category"
   ]
  },
  {
   "cell_type": "code",
   "execution_count": 14,
   "metadata": {},
   "outputs": [
    {
     "name": "stderr",
     "output_type": "stream",
     "text": [
      "Joining, by = \"scopus_id\"\n",
      "Joining, by = \"scopus_id\"\n",
      "Joining, by = \"scopus_id\"\n"
     ]
    },
    {
     "data": {
      "text/html": [
       "<table>\n",
       "<thead><tr><th scope=col>facet</th><th scope=col>category</th><th scope=col>journals</th><th scope=col>scihub</th><th scope=col>crossref_open_access</th><th scope=col>crossref_active</th><th scope=col>crossref</th><th scope=col>coverage</th></tr></thead>\n",
       "<tbody>\n",
       "\t<tr><td>Active                </td><td>Active                </td><td>18439                 </td><td>42436405              </td><td>2819534               </td><td>50448932              </td><td>50448932              </td><td>0.8411755             </td></tr>\n",
       "\t<tr><td>Active                </td><td>Inactive              </td><td> 4598                 </td><td> 5361319              </td><td>  35825               </td><td>       0              </td><td> 6939998              </td><td>0.7725246             </td></tr>\n",
       "\t<tr><td>Country of Publication</td><td>Argentina             </td><td>   17                 </td><td>    1943              </td><td>   2558               </td><td>    4680              </td><td>    5638              </td><td>0.3446258             </td></tr>\n",
       "\t<tr><td>Country of Publication</td><td>Australia             </td><td>  136                 </td><td>   78056              </td><td>  12786               </td><td>   99546              </td><td>  160141              </td><td>0.4874205             </td></tr>\n",
       "\t<tr><td>Country of Publication</td><td>Austria               </td><td>   26                 </td><td>   16344              </td><td>   1374               </td><td>   19017              </td><td>   20127              </td><td>0.8120435             </td></tr>\n",
       "\t<tr><td>Country of Publication</td><td>Azerbaijan            </td><td>    1                 </td><td>       0              </td><td>      0               </td><td>     310              </td><td>     310              </td><td>0.0000000             </td></tr>\n",
       "</tbody>\n",
       "</table>\n"
      ],
      "text/latex": [
       "\\begin{tabular}{r|llllllll}\n",
       " facet & category & journals & scihub & crossref\\_open\\_access & crossref\\_active & crossref & coverage\\\\\n",
       "\\hline\n",
       "\t Active                 & Active                 & 18439                  & 42436405               & 2819534                & 50448932               & 50448932               & 0.8411755             \\\\\n",
       "\t Active                 & Inactive               &  4598                  &  5361319               &   35825                &        0               &  6939998               & 0.7725246             \\\\\n",
       "\t Country of Publication & Argentina              &    17                  &     1943               &    2558                &     4680               &     5638               & 0.3446258             \\\\\n",
       "\t Country of Publication & Australia              &   136                  &    78056               &   12786                &    99546               &   160141               & 0.4874205             \\\\\n",
       "\t Country of Publication & Austria                &    26                  &    16344               &    1374                &    19017               &    20127               & 0.8120435             \\\\\n",
       "\t Country of Publication & Azerbaijan             &     1                  &        0               &       0                &      310               &      310               & 0.0000000             \\\\\n",
       "\\end{tabular}\n"
      ],
      "text/markdown": [
       "\n",
       "facet | category | journals | scihub | crossref_open_access | crossref_active | crossref | coverage | \n",
       "|---|---|---|---|---|---|\n",
       "| Active                 | Active                 | 18439                  | 42436405               | 2819534                | 50448932               | 50448932               | 0.8411755              | \n",
       "| Active                 | Inactive               |  4598                  |  5361319               |   35825                |        0               |  6939998               | 0.7725246              | \n",
       "| Country of Publication | Argentina              |    17                  |     1943               |    2558                |     4680               |     5638               | 0.3446258              | \n",
       "| Country of Publication | Australia              |   136                  |    78056               |   12786                |    99546               |   160141               | 0.4874205              | \n",
       "| Country of Publication | Austria                |    26                  |    16344               |    1374                |    19017               |    20127               | 0.8120435              | \n",
       "| Country of Publication | Azerbaijan             |     1                  |        0               |       0                |      310               |      310               | 0.0000000              | \n",
       "\n",
       "\n"
      ],
      "text/plain": [
       "  facet                  category   journals scihub   crossref_open_access\n",
       "1 Active                 Active     18439    42436405 2819534             \n",
       "2 Active                 Inactive    4598     5361319   35825             \n",
       "3 Country of Publication Argentina     17        1943    2558             \n",
       "4 Country of Publication Australia    136       78056   12786             \n",
       "5 Country of Publication Austria       26       16344    1374             \n",
       "6 Country of Publication Azerbaijan     1           0       0             \n",
       "  crossref_active crossref coverage \n",
       "1 50448932        50448932 0.8411755\n",
       "2        0         6939998 0.7725246\n",
       "3     4680            5638 0.3446258\n",
       "4    99546          160141 0.4874205\n",
       "5    19017           20127 0.8120435\n",
       "6      310             310 0.0000000"
      ]
     },
     "metadata": {},
     "output_type": "display_data"
    }
   ],
   "source": [
    "coverage_df = dplyr::bind_rows(\n",
    "  # Top-Level Subjects\n",
    "  journal_df %>%\n",
    "    dplyr::inner_join(top_df) %>%\n",
    "    dplyr::rename(category = top_level_subject) %>%\n",
    "    dplyr::mutate(facet = 'Top-Level'),\n",
    "  # Subject Areas\n",
    "  journal_df %>%\n",
    "    dplyr::inner_join(subject_df) %>%\n",
    "    dplyr::select(-asjc_code) %>%\n",
    "    dplyr::rename(category = asjc_description) %>%\n",
    "    dplyr::mutate(facet = 'Subject Area'),\n",
    "  # Journal Attributes\n",
    "  attribute_df %>%\n",
    "    dplyr::mutate(\n",
    "      open_access = dplyr::recode(open_access, `0`='Toll', `1`='Open'),\n",
    "      active = dplyr::recode(active, `0`='Inactive', `1`='Active')\n",
    "    ) %>%\n",
    "    tidyr::gather(key = 'facet', value = 'category', active:publisher_country) %>%\n",
    "    dplyr::mutate(facet = dplyr::recode(facet,\n",
    "      active='Active', open_access='Open', source_type='Type',\n",
    "      main_publisher='Publisher', publisher_country='Country of Publication')) %>%\n",
    "    dplyr::inner_join(journal_df)\n",
    "  ) %>%\n",
    "  # Summarize coverage across journals\n",
    "  dplyr::filter(!is.na(category)) %>%\n",
    "  dplyr::group_by(facet, category) %>%\n",
    "  dplyr::summarize(\n",
    "    journals = n(),\n",
    "    scihub = sum(scihub),\n",
    "    crossref_open_access = sum(crossref[open_access == 1]),\n",
    "    crossref_active = sum(crossref[active == 1]),\n",
    "    crossref = sum(crossref),\n",
    "    coverage = scihub / crossref\n",
    "  ) %>%\n",
    "  dplyr::ungroup()\n",
    "\n",
    "head(coverage_df)"
   ]
  },
  {
   "cell_type": "code",
   "execution_count": 15,
   "metadata": {
    "collapsed": true
   },
   "outputs": [],
   "source": [
    "coverage_df %>%\n",
    "  readr::write_tsv(file.path('data', 'coverage-by-category.tsv'))"
   ]
  },
  {
   "cell_type": "markdown",
   "metadata": {},
   "source": [
    "### Publisher Coverage dataframe"
   ]
  },
  {
   "cell_type": "code",
   "execution_count": 16,
   "metadata": {},
   "outputs": [
    {
     "name": "stderr",
     "output_type": "stream",
     "text": [
      "Parsed with column specification:\n",
      "cols(\n",
      "  main_publisher_slug = col_character(),\n",
      "  main_publisher = col_character(),\n",
      "  n_journals = col_integer(),\n",
      "  name_variants = col_integer()\n",
      ")\n"
     ]
    },
    {
     "data": {
      "text/html": [
       "<table>\n",
       "<thead><tr><th scope=col>main_publisher_slug</th><th scope=col>main_publisher</th></tr></thead>\n",
       "<tbody>\n",
       "\t<tr><td>1105-media-inc </td><td>1105 Media Inc.</td></tr>\n",
       "\t<tr><td>3g-publishing  </td><td>3G Publishing  </td></tr>\n",
       "</tbody>\n",
       "</table>\n"
      ],
      "text/latex": [
       "\\begin{tabular}{r|ll}\n",
       " main\\_publisher\\_slug & main\\_publisher\\\\\n",
       "\\hline\n",
       "\t 1105-media-inc  & 1105 Media Inc.\\\\\n",
       "\t 3g-publishing   & 3G Publishing  \\\\\n",
       "\\end{tabular}\n"
      ],
      "text/markdown": [
       "\n",
       "main_publisher_slug | main_publisher | \n",
       "|---|---|\n",
       "| 1105-media-inc  | 1105 Media Inc. | \n",
       "| 3g-publishing   | 3G Publishing   | \n",
       "\n",
       "\n"
      ],
      "text/plain": [
       "  main_publisher_slug main_publisher \n",
       "1 1105-media-inc      1105 Media Inc.\n",
       "2 3g-publishing       3G Publishing  "
      ]
     },
     "metadata": {},
     "output_type": "display_data"
    }
   ],
   "source": [
    "# Read publisher slugs\n",
    "slug_df = paste0(config$scopus_url, 'data/publishers.tsv') %>%\n",
    "  readr::read_tsv() %>%\n",
    "  dplyr::select(main_publisher_slug, main_publisher)\n",
    "slug_df %>% head(2)"
   ]
  },
  {
   "cell_type": "code",
   "execution_count": 17,
   "metadata": {},
   "outputs": [
    {
     "name": "stderr",
     "output_type": "stream",
     "text": [
      "Joining, by = \"main_publisher\"\n"
     ]
    },
    {
     "data": {
      "text/html": [
       "<table>\n",
       "<thead><tr><th scope=col>main_publisher</th><th scope=col>journals</th><th scope=col>scihub</th><th scope=col>crossref_open_access</th><th scope=col>crossref_active</th><th scope=col>crossref</th><th scope=col>coverage</th><th scope=col>main_publisher_slug</th></tr></thead>\n",
       "<tbody>\n",
       "\t<tr><td>A and V Publication    </td><td>1                      </td><td>  0                    </td><td>0                      </td><td>765                    </td><td>765                    </td><td>0                      </td><td>a-and-v-publication    </td></tr>\n",
       "\t<tr><td>A B Academic Publishers</td><td>1                      </td><td>318                    </td><td>0                      </td><td>  0                    </td><td>318                    </td><td>1                      </td><td>a-b-academic-publishers</td></tr>\n",
       "</tbody>\n",
       "</table>\n"
      ],
      "text/latex": [
       "\\begin{tabular}{r|llllllll}\n",
       " main\\_publisher & journals & scihub & crossref\\_open\\_access & crossref\\_active & crossref & coverage & main\\_publisher\\_slug\\\\\n",
       "\\hline\n",
       "\t A and V Publication     & 1                       &   0                     & 0                       & 765                     & 765                     & 0                       & a-and-v-publication    \\\\\n",
       "\t A B Academic Publishers & 1                       & 318                     & 0                       &   0                     & 318                     & 1                       & a-b-academic-publishers\\\\\n",
       "\\end{tabular}\n"
      ],
      "text/markdown": [
       "\n",
       "main_publisher | journals | scihub | crossref_open_access | crossref_active | crossref | coverage | main_publisher_slug | \n",
       "|---|---|\n",
       "| A and V Publication     | 1                       |   0                     | 0                       | 765                     | 765                     | 0                       | a-and-v-publication     | \n",
       "| A B Academic Publishers | 1                       | 318                     | 0                       |   0                     | 318                     | 1                       | a-b-academic-publishers | \n",
       "\n",
       "\n"
      ],
      "text/plain": [
       "  main_publisher          journals scihub crossref_open_access crossref_active\n",
       "1 A and V Publication     1          0    0                    765            \n",
       "2 A B Academic Publishers 1        318    0                      0            \n",
       "  crossref coverage main_publisher_slug    \n",
       "1 765      0        a-and-v-publication    \n",
       "2 318      1        a-b-academic-publishers"
      ]
     },
     "metadata": {},
     "output_type": "display_data"
    }
   ],
   "source": [
    "publisher_df = coverage_df %>%\n",
    "  dplyr::filter(facet == \"Publisher\") %>%\n",
    "  dplyr::select(-facet) %>%\n",
    "  dplyr::rename(main_publisher = category) %>%\n",
    "  dplyr::inner_join(slug_df)\n",
    "publisher_df %>% head(2)"
   ]
  },
  {
   "cell_type": "code",
   "execution_count": 18,
   "metadata": {
    "collapsed": true
   },
   "outputs": [],
   "source": [
    "publisher_df %>%\n",
    "  readr::write_tsv(file.path('data', 'publisher-coverage.tsv'))"
   ]
  },
  {
   "cell_type": "markdown",
   "metadata": {},
   "source": [
    "## Journal / Publisher coverage distributions"
   ]
  },
  {
   "cell_type": "code",
   "execution_count": 19,
   "metadata": {
    "collapsed": true
   },
   "outputs": [],
   "source": [
    "# Set figure dimensions\n",
    "width = 4\n",
    "height = 3\n",
    "options(repr.plot.width=width, repr.plot.height=height)\n",
    "\n",
    "gg = coverage_df %>%\n",
    "  dplyr::bind_rows(journal_df %>%\n",
    "    dplyr::transmute(facet='Journal', category=title_name, scihub, crossref, coverage)\n",
    "  ) %>%\n",
    "  dplyr::filter(facet %in% c('Journal', 'Publisher')) %>%\n",
    "  ggplot2::ggplot(ggplot2::aes(x = coverage)) +\n",
    "  ggplot2::facet_grid(facet ~ ., scales='free_y') +\n",
    "  ggplot2::geom_histogram(binwidth = 0.025, fill='#990000', color='white', size=0.4) +\n",
    "  ggplot2::scale_x_continuous(labels = scales::percent, name=NULL, expand = c(0.01, 0), breaks=seq(0, 1, 0.2)) +\n",
    "  ggplot2::scale_y_continuous(name=NULL, expand = c(0.015, 0)) +\n",
    "  ggplot2::theme_bw() +\n",
    "  ggplot2::theme(strip.background = ggplot2::element_rect(fill = '#FEF2E2'))\n",
    "\n",
    "file.path('figure', 'coverage-distributions.svg') %>%\n",
    "  ggplot2::ggsave(gg, width=width, height=height)"
   ]
  },
  {
   "cell_type": "markdown",
   "metadata": {},
   "source": [
    "## Facet-category plotting functions"
   ]
  },
  {
   "cell_type": "code",
   "execution_count": 20,
   "metadata": {
    "collapsed": true
   },
   "outputs": [],
   "source": [
    "abbreviate_number <- function(x) {\n",
    "  x = round(x)\n",
    "  if (nchar(x) <= 3) {return(x)}\n",
    "  if (nchar(x) <= 5) {\n",
    "    return(paste0(signif(x / 1e3, digits = 2), 'K'))\n",
    "  }\n",
    "  if (nchar(x) <= 6) {\n",
    "    return(paste0(round(x / 1e3), 'K'))\n",
    "  }\n",
    "  return(paste0(signif(x / 1e6, digits = 2), 'M'))\n",
    "}\n",
    "\n",
    "abbreviate_number <- Vectorize(abbreviate_number)"
   ]
  },
  {
   "cell_type": "code",
   "execution_count": 21,
   "metadata": {
    "collapsed": true
   },
   "outputs": [],
   "source": [
    "plot_coverage <- function(coverage_df, breaks=seq(0, 1, 0.1), text_size=2) {\n",
    "  # Function to plot Sci-Hub coverage\n",
    "\n",
    "  plot_df = coverage_df %>%\n",
    "    dplyr::arrange(coverage) %>%\n",
    "    dplyr::mutate(category = factor(category, levels=unique(category)))\n",
    "    \n",
    "    if ('journals' %in% colnames(plot_df)) {\n",
    "      plot_df = plot_df %>%\n",
    "        dplyr::mutate(label =\n",
    "        sprintf('%s — %s journals, %s of %s articles (%s)',\n",
    "            category,\n",
    "            abbreviate_number(journals),\n",
    "            abbreviate_number(scihub),\n",
    "            abbreviate_number(crossref),\n",
    "            scales::percent(coverage)\n",
    "        ))\n",
    "    } else {\n",
    "      plot_df = plot_df %>%\n",
    "        dplyr::mutate(label =\n",
    "        sprintf('%s — %s of %s articles (%s)',\n",
    "            category,\n",
    "            abbreviate_number(scihub),\n",
    "            abbreviate_number(crossref),\n",
    "            scales::percent(coverage)\n",
    "        ))\n",
    "    }\n",
    "\n",
    "    gg = plot_df %>%\n",
    "      ggplot2::ggplot(ggplot2::aes(x = category, y = coverage)) +\n",
    "      ggplot2::geom_col(fill='#efdada') +\n",
    "      ggplot2::facet_grid(facet ~ ., scales='free', space='free_y', shrink = TRUE) +\n",
    "      ggplot2::theme_bw() +\n",
    "      ggplot2::coord_flip() +\n",
    "      ggplot2::expand_limits(y = 1) + \n",
    "      ggplot2::scale_x_discrete(name = NULL, labels=NULL) +\n",
    "      ggplot2::scale_y_continuous(\n",
    "        breaks=breaks, labels=scales::percent,\n",
    "        expand = c(0, 0), name = 'Sci-Hub’s Coverage') +\n",
    "      ggplot2::theme(strip.background = ggplot2::element_rect(fill = '#FEF2E2')) +\n",
    "      ggplot2::theme(\n",
    "        axis.ticks.y = ggplot2::element_blank(),\n",
    "        panel.grid.major.y = ggplot2::element_blank()) +\n",
    "      ggplot2::theme(plot.margin=grid::unit(c(2, 2, 2, 5), 'points')) +\n",
    "      ggplot2::geom_text(ggplot2::aes(label = label), y = 0.01, size=text_size, hjust='inward', color='#000000')\n",
    "\n",
    "    return(gg)\n",
    "}"
   ]
  },
  {
   "cell_type": "markdown",
   "metadata": {},
   "source": [
    "## Plot coverage by journal status and subject areas"
   ]
  },
  {
   "cell_type": "code",
   "execution_count": 22,
   "metadata": {
    "collapsed": true,
    "scrolled": false
   },
   "outputs": [],
   "source": [
    "# Set figure dimensions\n",
    "width = 5\n",
    "height = 6\n",
    "options(repr.plot.width=width, repr.plot.height=height)\n",
    "\n",
    "gg = coverage_df %>%\n",
    "  dplyr::filter(facet %in% c('Active', 'Open', 'Subject Area')) %>%\n",
    "  plot_coverage(text_size=2.4)\n",
    "\n",
    "file.path('figure', 'coverage.svg') %>%\n",
    "  ggplot2::ggsave(gg, width=width, height=height)"
   ]
  },
  {
   "cell_type": "markdown",
   "metadata": {},
   "source": [
    "## Plot coverage by country of publication"
   ]
  },
  {
   "cell_type": "code",
   "execution_count": 23,
   "metadata": {
    "collapsed": true
   },
   "outputs": [],
   "source": [
    "# Set figure dimensions\n",
    "width = 5\n",
    "height = 3.5\n",
    "options(repr.plot.width=width, repr.plot.height=height)\n",
    "\n",
    "gg = coverage_df %>%\n",
    "  dplyr::filter(facet %in% c('Country of Publication')) %>%\n",
    "  dplyr::filter(crossref > 100000) %>%\n",
    "  plot_coverage()\n",
    "\n",
    "file.path('figure', 'coverage-by-country.svg') %>%\n",
    "  ggplot2::ggsave(gg, width=width, height=height)"
   ]
  },
  {
   "cell_type": "markdown",
   "metadata": {},
   "source": [
    "## Plot coverage by publisher"
   ]
  },
  {
   "cell_type": "code",
   "execution_count": 24,
   "metadata": {
    "collapsed": true,
    "scrolled": false
   },
   "outputs": [],
   "source": [
    "# Set figure dimensions\n",
    "width = 5\n",
    "height = 4\n",
    "options(repr.plot.width=width, repr.plot.height=height)\n",
    "\n",
    "gg = coverage_df %>%\n",
    "  dplyr::filter(facet %in% c('Publisher')) %>%\n",
    "  dplyr::filter(crossref > 200000) %>%\n",
    "  plot_coverage()\n",
    "\n",
    "file.path('figure', 'coverage-by-publisher.svg') %>%\n",
    "  ggplot2::ggsave(gg, width=width, height=height)"
   ]
  },
  {
   "cell_type": "markdown",
   "metadata": {},
   "source": [
    "## Crossref metadata coverage"
   ]
  },
  {
   "cell_type": "markdown",
   "metadata": {},
   "source": [
    "### Coverage by Crossref work type"
   ]
  },
  {
   "cell_type": "code",
   "execution_count": 25,
   "metadata": {},
   "outputs": [
    {
     "name": "stderr",
     "output_type": "stream",
     "text": [
      "Parsed with column specification:\n",
      "cols(\n",
      "  type = col_character(),\n",
      "  scihub = col_integer(),\n",
      "  crossref = col_integer(),\n",
      "  coverage = col_double()\n",
      ")\n"
     ]
    },
    {
     "data": {
      "text/html": [
       "<table>\n",
       "<thead><tr><th scope=col>category</th><th scope=col>scihub</th><th scope=col>crossref</th><th scope=col>coverage</th><th scope=col>facet</th></tr></thead>\n",
       "<tbody>\n",
       "\t<tr><td>Book Chapter </td><td>1450999      </td><td>10250455     </td><td>0.1415500    </td><td>Crossref Type</td></tr>\n",
       "\t<tr><td>Book Part    </td><td>      3      </td><td>    1336     </td><td>0.0022455    </td><td>Crossref Type</td></tr>\n",
       "</tbody>\n",
       "</table>\n"
      ],
      "text/latex": [
       "\\begin{tabular}{r|lllll}\n",
       " category & scihub & crossref & coverage & facet\\\\\n",
       "\\hline\n",
       "\t Book Chapter  & 1450999       & 10250455      & 0.1415500     & Crossref Type\\\\\n",
       "\t Book Part     &       3       &     1336      & 0.0022455     & Crossref Type\\\\\n",
       "\\end{tabular}\n"
      ],
      "text/markdown": [
       "\n",
       "category | scihub | crossref | coverage | facet | \n",
       "|---|---|\n",
       "| Book Chapter  | 1450999       | 10250455      | 0.1415500     | Crossref Type | \n",
       "| Book Part     |       3       |     1336      | 0.0022455     | Crossref Type | \n",
       "\n",
       "\n"
      ],
      "text/plain": [
       "  category     scihub  crossref coverage  facet        \n",
       "1 Book Chapter 1450999 10250455 0.1415500 Crossref Type\n",
       "2 Book Part          3     1336 0.0022455 Crossref Type"
      ]
     },
     "metadata": {},
     "output_type": "display_data"
    }
   ],
   "source": [
    "type_df = file.path('data', 'type-coverage.tsv') %>%\n",
    "  readr::read_tsv() %>%\n",
    "  dplyr::mutate(type = tools::toTitleCase(gsub('-', ' ', type))) %>%\n",
    "  dplyr::rename(category = type) %>%\n",
    "  dplyr::mutate(facet = 'Crossref Type')\n",
    "\n",
    "head(type_df, 2)"
   ]
  },
  {
   "cell_type": "code",
   "execution_count": 26,
   "metadata": {
    "collapsed": true
   },
   "outputs": [],
   "source": [
    "# Set figure dimensions\n",
    "width = 3\n",
    "height = 2\n",
    "options(repr.plot.width=width, repr.plot.height=height)\n",
    "\n",
    "gg = type_df %>%\n",
    "  plot_coverage(breaks=seq(0, 1, 0.2), text_size=2.3)\n",
    "\n",
    "file.path('figure', 'coverage-by-type.svg') %>%\n",
    "  ggplot2::ggsave(gg, width=width, height=height)"
   ]
  },
  {
   "cell_type": "markdown",
   "metadata": {},
   "source": [
    "### Coverage by year issued"
   ]
  },
  {
   "cell_type": "code",
   "execution_count": 27,
   "metadata": {},
   "outputs": [
    {
     "name": "stderr",
     "output_type": "stream",
     "text": [
      "Parsed with column specification:\n",
      "cols(\n",
      "  year = col_integer(),\n",
      "  scihub = col_integer(),\n",
      "  crossref = col_integer(),\n",
      "  coverage = col_double()\n",
      ")\n"
     ]
    },
    {
     "data": {
      "text/html": [
       "<table>\n",
       "<thead><tr><th scope=col>year</th><th scope=col>scihub</th><th scope=col>crossref</th><th scope=col>coverage</th></tr></thead>\n",
       "<tbody>\n",
       "\t<tr><td>1678</td><td>0   </td><td>76  </td><td>0   </td></tr>\n",
       "\t<tr><td>1679</td><td>0   </td><td>26  </td><td>0   </td></tr>\n",
       "</tbody>\n",
       "</table>\n"
      ],
      "text/latex": [
       "\\begin{tabular}{r|llll}\n",
       " year & scihub & crossref & coverage\\\\\n",
       "\\hline\n",
       "\t 1678 & 0    & 76   & 0   \\\\\n",
       "\t 1679 & 0    & 26   & 0   \\\\\n",
       "\\end{tabular}\n"
      ],
      "text/markdown": [
       "\n",
       "year | scihub | crossref | coverage | \n",
       "|---|---|\n",
       "| 1678 | 0    | 76   | 0    | \n",
       "| 1679 | 0    | 26   | 0    | \n",
       "\n",
       "\n"
      ],
      "text/plain": [
       "  year scihub crossref coverage\n",
       "1 1678 0      76       0       \n",
       "2 1679 0      26       0       "
      ]
     },
     "metadata": {},
     "output_type": "display_data"
    }
   ],
   "source": [
    "year_df = file.path('data', 'year-coverage.tsv') %>%\n",
    "  readr::read_tsv()\n",
    "\n",
    "head(year_df, 2)"
   ]
  },
  {
   "cell_type": "code",
   "execution_count": 28,
   "metadata": {},
   "outputs": [
    {
     "data": {
      "text/html": [
       "77201782"
      ],
      "text/latex": [
       "77201782"
      ],
      "text/markdown": [
       "77201782"
      ],
      "text/plain": [
       "[1] 77201782"
      ]
     },
     "metadata": {},
     "output_type": "display_data"
    }
   ],
   "source": [
    "# Total number of articles with a valid year\n",
    "sum(year_df$crossref)"
   ]
  },
  {
   "cell_type": "code",
   "execution_count": 29,
   "metadata": {
    "collapsed": true
   },
   "outputs": [],
   "source": [
    "width = 6\n",
    "height = 2.5\n",
    "options(repr.plot.width=width, repr.plot.height=height)\n",
    "\n",
    "gg = year_df %>%\n",
    "  dplyr::filter(year >= 1850) %>%\n",
    "  ggplot2::ggplot(ggplot2::aes(x=year, y=coverage)) +\n",
    "  ggplot2::geom_col(fill='#efdada', color='white', size=0.2) +\n",
    "  ggplot2::expand_limits(y = 1) +\n",
    "  ggplot2::scale_x_continuous(breaks=seq(0, 3000, 20), name = NULL, expand = c(0, 0)) +\n",
    "  ggplot2::scale_y_continuous(\n",
    "    breaks=seq(0, 1, 0.2), labels=scales::percent,\n",
    "    expand = c(0, 0), name = 'Sci-Hub’s Coverage') +\n",
    "  ggplot2::theme_bw()\n",
    "\n",
    "file.path('figure', 'coverage-by-year.svg') %>%\n",
    "  ggplot2::ggsave(gg, width=width, height=height)"
   ]
  },
  {
   "cell_type": "markdown",
   "metadata": {},
   "source": [
    "## Coverage by year and access status"
   ]
  },
  {
   "cell_type": "code",
   "execution_count": 30,
   "metadata": {},
   "outputs": [
    {
     "name": "stderr",
     "output_type": "stream",
     "text": [
      "Parsed with column specification:\n",
      "cols(\n",
      "  year = col_integer(),\n",
      "  open_access = col_integer(),\n",
      "  scihub = col_integer(),\n",
      "  crossref = col_integer(),\n",
      "  coverage = col_double(),\n",
      "  scihub_journals = col_integer(),\n",
      "  crossref_journals = col_integer()\n",
      ")\n"
     ]
    },
    {
     "data": {
      "text/html": [
       "<table>\n",
       "<thead><tr><th scope=col>year</th><th scope=col>open_access</th><th scope=col>scihub</th><th scope=col>crossref</th><th scope=col>coverage</th><th scope=col>scihub_journals</th><th scope=col>crossref_journals</th></tr></thead>\n",
       "<tbody>\n",
       "\t<tr><td>2017   </td><td>0      </td><td>378558 </td><td>611701 </td><td>0.61886</td><td>10122  </td><td>12793  </td></tr>\n",
       "\t<tr><td>2017   </td><td>1      </td><td> 19298 </td><td> 84386 </td><td>0.22869</td><td>  771  </td><td> 1999  </td></tr>\n",
       "</tbody>\n",
       "</table>\n"
      ],
      "text/latex": [
       "\\begin{tabular}{r|lllllll}\n",
       " year & open\\_access & scihub & crossref & coverage & scihub\\_journals & crossref\\_journals\\\\\n",
       "\\hline\n",
       "\t 2017    & 0       & 378558  & 611701  & 0.61886 & 10122   & 12793  \\\\\n",
       "\t 2017    & 1       &  19298  &  84386  & 0.22869 &   771   &  1999  \\\\\n",
       "\\end{tabular}\n"
      ],
      "text/markdown": [
       "\n",
       "year | open_access | scihub | crossref | coverage | scihub_journals | crossref_journals | \n",
       "|---|---|\n",
       "| 2017    | 0       | 378558  | 611701  | 0.61886 | 10122   | 12793   | \n",
       "| 2017    | 1       |  19298  |  84386  | 0.22869 |   771   |  1999   | \n",
       "\n",
       "\n"
      ],
      "text/plain": [
       "  year open_access scihub crossref coverage scihub_journals crossref_journals\n",
       "1 2017 0           378558 611701   0.61886  10122           12793            \n",
       "2 2017 1            19298  84386   0.22869    771            1999            "
      ]
     },
     "metadata": {},
     "output_type": "display_data"
    }
   ],
   "source": [
    "year_oa_df = file.path('data', 'year-coverage-by-access.tsv') %>%\n",
    "  readr::read_tsv()\n",
    "year_oa_df %>% tail(2)"
   ]
  },
  {
   "cell_type": "code",
   "execution_count": 31,
   "metadata": {
    "collapsed": true
   },
   "outputs": [],
   "source": [
    "width = 5\n",
    "height = 3\n",
    "options(repr.plot.width=width, repr.plot.height=height)\n",
    "\n",
    "gg = year_oa_df %>%\n",
    "  dplyr::mutate(open_access = dplyr::recode(open_access, `0`='Toll', `1`='Open')) %>%\n",
    "  dplyr::filter(year >= 1950) %>%\n",
    "  ggplot2::ggplot(ggplot2::aes(x=year, y=coverage)) +\n",
    "  ggplot2::facet_grid(open_access ~ .) +\n",
    "  ggplot2::geom_col(fill='#efdada', color='white', size=0.2) +\n",
    "  ggplot2::expand_limits(y = 1) +\n",
    "  ggplot2::scale_x_continuous(breaks=seq(0, 3000, 10), name = NULL, expand = c(0, 0)) +\n",
    "  ggplot2::scale_y_continuous(\n",
    "    breaks=seq(0.1, 1, 0.2), labels=scales::percent,\n",
    "    expand = c(0, 0), name = 'Sci-Hub’s Coverage') +\n",
    "  ggplot2::theme_bw() +\n",
    "  ggplot2::theme(\n",
    "    strip.background = ggplot2::element_rect(fill = '#FEF2E2'),\n",
    "    plot.margin=grid::unit(c(2, 2, 2, 5), 'points'))\n",
    "\n",
    "file.path('figure', 'coverage-by-year-and-access.svg') %>%\n",
    "  ggplot2::ggsave(gg, width=width, height=height)"
   ]
  }
 ],
 "metadata": {
  "anaconda-cloud": {},
  "kernelspec": {
   "display_name": "R [conda env:scihub]",
   "language": "R",
   "name": "conda-env-scihub-r"
  },
  "language_info": {
   "codemirror_mode": "r",
   "file_extension": ".r",
   "mimetype": "text/x-r-source",
   "name": "R",
   "pygments_lexer": "r",
   "version": "3.3.2"
  }
 },
 "nbformat": 4,
 "nbformat_minor": 1
}
