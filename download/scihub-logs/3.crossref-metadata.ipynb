{
 "cells": [
  {
   "cell_type": "markdown",
   "metadata": {},
   "source": [
    "# Get Crossref metadata for Sci-Hub requested DOIs"
   ]
  },
  {
   "cell_type": "code",
   "execution_count": 1,
   "metadata": {
    "collapsed": true
   },
   "outputs": [],
   "source": [
    "import os\n",
    "import collections\n",
    "import lzma\n",
    "\n",
    "import pandas\n",
    "import pymongo"
   ]
  },
  {
   "cell_type": "code",
   "execution_count": 2,
   "metadata": {},
   "outputs": [],
   "source": [
    "client = pymongo.MongoClient('localhost', 27017)\n",
    "crossref_db = client.crossref\n",
    "works = crossref_db.works"
   ]
  },
  {
   "cell_type": "code",
   "execution_count": 3,
   "metadata": {},
   "outputs": [
    {
     "data": {
      "text/html": [
       "<div>\n",
       "<table border=\"1\" class=\"dataframe\">\n",
       "  <thead>\n",
       "    <tr style=\"text-align: right;\">\n",
       "      <th></th>\n",
       "      <th>doi</th>\n",
       "      <th>downloads</th>\n",
       "      <th>visitors</th>\n",
       "      <th>countries</th>\n",
       "      <th>days</th>\n",
       "      <th>months</th>\n",
       "    </tr>\n",
       "  </thead>\n",
       "  <tbody>\n",
       "    <tr>\n",
       "      <th>0</th>\n",
       "      <td>.1991.236</td>\n",
       "      <td>1</td>\n",
       "      <td>1</td>\n",
       "      <td>1</td>\n",
       "      <td>1</td>\n",
       "      <td>1</td>\n",
       "    </tr>\n",
       "    <tr>\n",
       "      <th>1</th>\n",
       "      <td>.blo.0000132404.30139.f2</td>\n",
       "      <td>1</td>\n",
       "      <td>1</td>\n",
       "      <td>1</td>\n",
       "      <td>1</td>\n",
       "      <td>1</td>\n",
       "    </tr>\n",
       "  </tbody>\n",
       "</table>\n",
       "</div>"
      ],
      "text/plain": [
       "                        doi  downloads  visitors  countries  days  months\n",
       "0                 .1991.236          1         1          1     1       1\n",
       "1  .blo.0000132404.30139.f2          1         1          1     1       1"
      ]
     },
     "execution_count": 3,
     "metadata": {},
     "output_type": "execute_result"
    }
   ],
   "source": [
    "logs_df = pandas.read_table('scihub-logs-summary_2015-09_2016-02.tsv.xz')\n",
    "logs_df.head(2)"
   ]
  },
  {
   "cell_type": "code",
   "execution_count": 4,
   "metadata": {},
   "outputs": [
    {
     "data": {
      "text/plain": [
       "10552418"
      ]
     },
     "execution_count": 4,
     "metadata": {},
     "output_type": "execute_result"
    }
   ],
   "source": [
    "len(logs_df)"
   ]
  },
  {
   "cell_type": "code",
   "execution_count": 5,
   "metadata": {},
   "outputs": [
    {
     "data": {
      "text/plain": [
       "{'DOI': '10.1002/jeab.100',\n",
       " 'ISSN': ['0022-5002'],\n",
       " 'URL': 'http://dx.doi.org/10.1002/jeab.100',\n",
       " '_id': ObjectId('58d2156a0c62134f84e94c8b'),\n",
       " 'author': [{'affiliation': [{'name': 'University of California; Davis'}],\n",
       "   'family': 'Baum',\n",
       "   'given': 'William M.'},\n",
       "  {'affiliation': [{'name': 'University of Auckland'}],\n",
       "   'family': 'Davison',\n",
       "   'given': 'Michael'}],\n",
       " 'cited-count': 0,\n",
       " 'citing-count': 35,\n",
       " 'container-title': ['Journal of the Experimental Analysis of Behavior'],\n",
       " 'content-domain': {'crossmark-restriction': False, 'domain': []},\n",
       " 'created': {'date-parts': [[2014, 8, 8]],\n",
       "  'date-time': '2014-08-08T10:41:32Z',\n",
       "  'timestamp': 1407494492000},\n",
       " 'deposited': {'date-parts': [[2016, 10, 1]],\n",
       "  'date-time': '2016-10-01T01:10:41Z',\n",
       "  'timestamp': 1475284241000},\n",
       " 'indexed': {'date-parts': [[2016, 11, 13]],\n",
       "  'date-time': '2016-11-13T09:26:29Z',\n",
       "  'timestamp': 1479029189331},\n",
       " 'issue': '2',\n",
       " 'issued': {'date-parts': [[2014, 8, 8]]},\n",
       " 'license': [{'URL': 'http://doi.wiley.com/10.1002/tdm_license_1',\n",
       "   'content-version': 'tdm',\n",
       "   'delay-in-days': 389,\n",
       "   'start': {'date-parts': [[2015, 9, 1]],\n",
       "    'date-time': '2015-09-01T00:00:00Z',\n",
       "    'timestamp': 1441065600000}}],\n",
       " 'link': [{'URL': 'https://api.wiley.com/onlinelibrary/tdm/v1/articles/10.1002%2Fjeab.100',\n",
       "   'content-type': 'unspecified',\n",
       "   'content-version': 'vor',\n",
       "   'intended-application': 'text-mining'}],\n",
       " 'member': 'http://id.crossref.org/member/311',\n",
       " 'original-title': [],\n",
       " 'page': '213-230',\n",
       " 'prefix': 'http://id.crossref.org/prefix/10.1002',\n",
       " 'published-online': {'date-parts': [[2014, 8, 8]]},\n",
       " 'published-print': {'date-parts': [[2014, 9]]},\n",
       " 'publisher': 'Wiley-Blackwell',\n",
       " 'reference-count': 35,\n",
       " 'score': 1.0,\n",
       " 'short-container-title': [],\n",
       " 'short-title': [],\n",
       " 'source': 'CrossRef',\n",
       " 'subject': ['Experimental and Cognitive Psychology',\n",
       "  'Behavioral Neuroscience'],\n",
       " 'subtitle': ['BACKGROUND ACTIVITIES AND INDUCTION'],\n",
       " 'title': ['Background activities, induction, and behavioral allocation in operant performance'],\n",
       " 'type': 'journal-article',\n",
       " 'volume': '102'}"
      ]
     },
     "execution_count": 5,
     "metadata": {},
     "output_type": "execute_result"
    }
   ],
   "source": [
    "# Example work and its metadata\n",
    "work = works.find_one({'DOI': '10.1002/jeab.100'})\n",
    "work"
   ]
  },
  {
   "cell_type": "code",
   "execution_count": 6,
   "metadata": {},
   "outputs": [],
   "source": [
    "def get_metadata(doi):\n",
    "    work = works.find_one({'DOI': doi})\n",
    "    if not work:\n",
    "        return None\n",
    "\n",
    "    row = collections.OrderedDict()\n",
    "    row['doi'] = doi\n",
    "\n",
    "    try:\n",
    "        issued = work['issued']['date-parts'][0]\n",
    "        row['issued'] = '-'.join('{:02d}'.format(part) for part in issued)\n",
    "    except:\n",
    "        pass\n",
    "\n",
    "    try:\n",
    "        authors = list()\n",
    "        for author in work['author']:\n",
    "            author = f\"{author.get('given')} {author.get('family')}\".strip()\n",
    "            if author:\n",
    "                authors.append(author)\n",
    "        row['authors'] = ', '.join(authors)\n",
    "    except:\n",
    "        pass\n",
    "\n",
    "    try:\n",
    "        row['title'] = work['title'][0]\n",
    "    except:\n",
    "        pass\n",
    "\n",
    "    try:\n",
    "        row['journal'] = work['container-title'][0]\n",
    "    except:\n",
    "        pass\n",
    "\n",
    "    return row"
   ]
  },
  {
   "cell_type": "code",
   "execution_count": 7,
   "metadata": {},
   "outputs": [
    {
     "name": "stdout",
     "output_type": "stream",
     "text": [
      "CPU times: user 37min 18s, sys: 3min 10s, total: 40min 29s\n",
      "Wall time: 1h 9min 55s\n"
     ]
    }
   ],
   "source": [
    "%%time\n",
    "rows = filter(None, (get_metadata(doi) for doi in logs_df.doi))\n",
    "metadata_df = pandas.DataFrame.from_records(rows)"
   ]
  },
  {
   "cell_type": "code",
   "execution_count": 8,
   "metadata": {},
   "outputs": [
    {
     "data": {
      "text/html": [
       "<div>\n",
       "<table border=\"1\" class=\"dataframe\">\n",
       "  <thead>\n",
       "    <tr style=\"text-align: right;\">\n",
       "      <th></th>\n",
       "      <th>doi</th>\n",
       "      <th>issued</th>\n",
       "      <th>authors</th>\n",
       "      <th>title</th>\n",
       "      <th>journal</th>\n",
       "    </tr>\n",
       "  </thead>\n",
       "  <tbody>\n",
       "    <tr>\n",
       "      <th>0</th>\n",
       "      <td>10.1001/10-v4n2-hsf10003</td>\n",
       "      <td>2011-03</td>\n",
       "      <td>James G. Hodge, Evan D. Anderson, Thomas D. Ki...</td>\n",
       "      <td>Facilitating Hospital Emergency Preparedness: ...</td>\n",
       "      <td>Disaster Medicine and Public Health Preparedness</td>\n",
       "    </tr>\n",
       "    <tr>\n",
       "      <th>1</th>\n",
       "      <td>10.1001/2012.jama.10159</td>\n",
       "      <td>2012-08-22</td>\n",
       "      <td>NaN</td>\n",
       "      <td>Medicaid: Its Role Today and Under the Afforda...</td>\n",
       "      <td>JAMA</td>\n",
       "    </tr>\n",
       "  </tbody>\n",
       "</table>\n",
       "</div>"
      ],
      "text/plain": [
       "                        doi      issued  \\\n",
       "0  10.1001/10-v4n2-hsf10003     2011-03   \n",
       "1   10.1001/2012.jama.10159  2012-08-22   \n",
       "\n",
       "                                             authors  \\\n",
       "0  James G. Hodge, Evan D. Anderson, Thomas D. Ki...   \n",
       "1                                                NaN   \n",
       "\n",
       "                                               title  \\\n",
       "0  Facilitating Hospital Emergency Preparedness: ...   \n",
       "1  Medicaid: Its Role Today and Under the Afforda...   \n",
       "\n",
       "                                            journal  \n",
       "0  Disaster Medicine and Public Health Preparedness  \n",
       "1                                              JAMA  "
      ]
     },
     "execution_count": 8,
     "metadata": {},
     "output_type": "execute_result"
    }
   ],
   "source": [
    "metadata_df.head(2)"
   ]
  },
  {
   "cell_type": "code",
   "execution_count": 9,
   "metadata": {},
   "outputs": [],
   "source": [
    "with lzma.open('crossref-metadata.tsv.xz', 'wt') as write_file:\n",
    "    metadata_df.to_csv(write_file, sep='\\t', index=False)"
   ]
  }
 ],
 "metadata": {
  "kernelspec": {
   "display_name": "Python [conda env:crossref]",
   "language": "python",
   "name": "conda-env-crossref-py"
  },
  "language_info": {
   "codemirror_mode": {
    "name": "ipython",
    "version": 3
   },
   "file_extension": ".py",
   "mimetype": "text/x-python",
   "name": "python",
   "nbconvert_exporter": "python",
   "pygments_lexer": "ipython3",
   "version": "3.6.0"
  }
 },
 "nbformat": 4,
 "nbformat_minor": 2
}
